{
 "cells": [
  {
   "cell_type": "code",
   "execution_count": null,
   "id": "6fa250c1",
   "metadata": {},
   "outputs": [],
   "source": [
    "import csv\n",
    "\n",
    "# Arquivo CSV onde os dados são armazenados\n",
    "filename = \"expenses.csv\"\n",
    "\n",
    "# função para inputar os dados\n",
    "def update_expenses():\n",
    "    farmacia = float(input(\"Enter pharmacy expenses: \"))\n",
    "    mercado = float(input(\"Enter grocery expenses: \"))\n",
    "    aditivos = float(input(\"Enter additive expenses: \"))\n",
    "    uber = float(input(\"Enter Uber expenses: \"))\n",
    "    diversos = float(input(\"Enter miscellaneous expenses: \"))\n",
    "    prestacao = float(input(\"Enter installment expenses: \"))\n",
    "\n",
    "    # Salva os dados no arquivo\n",
    "    with open(filename, \"a\", newline=\"\") as file:\n",
    "        writer = csv.writer(file)\n",
    "        writer.writerow([farmacia, mercado, aditivos, uber, diversos, prestacao])\n",
    "\n",
    "# Verifica a existência do arquivo\n",
    "file_exists = True\n",
    "try:\n",
    "    with open(filename, \"r\"):\n",
    "        pass\n",
    "except FileNotFoundError:\n",
    "    file_exists = False\n",
    "\n",
    "# Caso o CSV não exista esta clausula IF cria e escreve o cabeçálho\n",
    "if not file_exists:\n",
    "    with open(filename, \"w\", newline=\"\") as file:\n",
    "        writer = csv.writer(file)\n",
    "        writer.writerow([\"farmacia\", \"mercado\", \"aditivos\", \"uber\", \"diversos\", \"prestacao\"])\n",
    "\n",
    "# Solicita os dados para armazenamentos\n",
    "update_expenses()\n",
    "\n",
    "# Mostra o total de gastos referente ao que foi inserido\n",
    "total_expenses = 0\n",
    "with open(filename, \"r\") as file:\n",
    "    reader = csv.reader(file)\n",
    "    next(reader)  # Skip the header row\n",
    "    for row in reader:\n",
    "        expenses = list(map(float, row))\n",
    "        total_expenses += sum\n"
   ]
  },
  {
   "cell_type": "code",
   "execution_count": 16,
   "id": "695ff070",
   "metadata": {},
   "outputs": [
    {
     "name": "stdout",
     "output_type": "stream",
     "text": [
      "Enter pharmacy expenses: 10\n",
      "Enter grocery expenses: 10\n",
      "Enter additive expenses: 10\n",
      "Enter Uber expenses: 10\n",
      "Enter miscellaneous expenses: 10\n",
      "Enter installment expenses: 10\n"
     ]
    }
   ],
   "source": [
    "update_expenses()"
   ]
  },
  {
   "cell_type": "code",
   "execution_count": null,
   "id": "136c1661",
   "metadata": {},
   "outputs": [],
   "source": []
  }
 ],
 "metadata": {
  "kernelspec": {
   "display_name": "Python 3 (ipykernel)",
   "language": "python",
   "name": "python3"
  },
  "language_info": {
   "codemirror_mode": {
    "name": "ipython",
    "version": 3
   },
   "file_extension": ".py",
   "mimetype": "text/x-python",
   "name": "python",
   "nbconvert_exporter": "python",
   "pygments_lexer": "ipython3",
   "version": "3.9.12"
  }
 },
 "nbformat": 4,
 "nbformat_minor": 5
}
